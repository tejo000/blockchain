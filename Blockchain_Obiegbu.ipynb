{
 "cells": [
  {
   "cell_type": "code",
   "execution_count": 1,
   "metadata": {},
   "outputs": [],
   "source": [
    "#Homepages:\n",
    "    # https://nikolanews.com/develop-a-blockchain-application-from-scratch-in-python/ \n",
    "    # beschreibe das was und nicht das wie!"
   ]
  },
  {
   "cell_type": "code",
   "execution_count": 2,
   "metadata": {},
   "outputs": [],
   "source": [
    "import json # einfachere Handhabung als xml, einfacher schr."
   ]
  },
  {
   "cell_type": "code",
   "execution_count": 3,
   "metadata": {},
   "outputs": [],
   "source": [
    "from hashlib import sha256 # fixed 256 bit string - hexadezimal - 64 random character string"
   ]
  },
  {
   "cell_type": "code",
   "execution_count": 4,
   "metadata": {},
   "outputs": [],
   "source": [
    "from time import time "
   ]
  },
  {
   "cell_type": "code",
   "execution_count": 5,
   "metadata": {},
   "outputs": [],
   "source": [
    "class Block:\n",
    "    def __init__(self, uid, timestamp, transactions, previous_hash):\n",
    "        self.uid = uid # um Block zu identifizieren\n",
    "        self.timestamp = timestamp\n",
    "        self.transations = transactions # sind die Daten welche in Blöcken gespeichert werden. i.d.F Transaktionsdaten\n",
    "        self.previous_hash = previous_hash # Wenn sich Hashwert des vorherigen Blocks ändern würde, ändert sich jene des aktuellen auch\n",
    "        self.nonce = None # unique variable to be found\n",
    "        \n",
    "    def compute_hash(self):\n",
    "        data = json.dumps(self.__dict__) # Konvertiert json Objekt in python string\n",
    "        encoded = data.encode('UTF-8') # Kodierung für Unicode zeichen\n",
    "        return sha256(encoded).hexdigest() # Ausgabe, stets die gleiche, egal wie häufig durchlaufen\n",
    "\n",
    "# Frage: Hier würde Root tree verwendet werden, wenn individuelle Transaktionen gehashed werden????"
   ]
  },
  {
   "cell_type": "code",
   "execution_count": 6,
   "metadata": {},
   "outputs": [],
   "source": [
    "class BlockChain: # typ mit großem C, variable etc.klein\n",
    "    difficulty = 2 # je höher, desto schwerer --> warum steht sie nicht direkt im Block? kompliziert wenn man 2 haben will\n",
    "    \n",
    "    def __init__(self):\n",
    "        self.chain = [BlockChain.create_genesis_block()] # um Blockchain zu erstellen und Genesis Block ergänzen \n",
    "    \n",
    "    @staticmethod # --> bedeutet es, das habe ich immer?\n",
    "    def create_genesis_block():\n",
    "        \"\"\"Erster Block einer Blockchain, bezieht sich nicht auf vorherigen Block. Index = 0\"\"\" # auf englisch\n",
    "        return Block(0, time(), [], 'G E N E S I S')\n",
    "    \n",
    "    @property  # nicht sooo wichtig\n",
    "    def last_block(self):\n",
    "        return self.chain[-1] \n",
    "\n",
    "# Frage: ht ganz klar? -1 um aktuellen Block auszugeben? ist letztes element\n",
    "\n",
    "    @staticmethod\n",
    "    def proof_of_work(block): # verhindert, dass hashes verändert werden können\n",
    "        block.nonce = 0\n",
    "        computed_hash = block.compute_hash()\n",
    "        while not BlockChain.is_valid_hash(computed_hash): # checkt ob Hash mit 00 beginnt (wegen difficulty) ist..solange nicht Blockchain valide ist, suche weiter \n",
    "            block.nonce += 1 # so wird nonce immer weiter gesucht und plus 1 gezählt\n",
    "            computed_hash = block.compute_hash()\n",
    "        return computed_hash # gefundene Hash Ausgabe\n",
    "    \n",
    "    @staticmethod\n",
    "    def is_valid_hash(block_hash): \n",
    "        return block_hash.startswith('0' * BlockChain.difficulty) # Kontrolle ob hash valide ist von Block und Difficulty erfüllt\n",
    "\n",
    "    "
   ]
  },
  {
   "cell_type": "code",
   "execution_count": 10,
   "metadata": {},
   "outputs": [
    {
     "data": {
      "text/plain": [
       "<__main__.BlockChain at 0x7f32446fb438>"
      ]
     },
     "execution_count": 10,
     "metadata": {},
     "output_type": "execute_result"
    }
   ],
   "source": []
  },
  {
   "cell_type": "code",
   "execution_count": 11,
   "metadata": {},
   "outputs": [
    {
     "name": "stdout",
     "output_type": "stream",
     "text": [
      "blockchain = {'chain': [<__main__.Block object at 0x7f3244680240>]}\n"
     ]
    },
    {
     "ename": "TypeError",
     "evalue": "'Block' object is not callable",
     "output_type": "error",
     "traceback": [
      "\u001b[0;31m---------------------------------------------------------------------------\u001b[0m",
      "\u001b[0;31mTypeError\u001b[0m                                 Traceback (most recent call last)",
      "\u001b[0;32m<ipython-input-11-d8812faaf115>\u001b[0m in \u001b[0;36m<module>\u001b[0;34m\u001b[0m\n\u001b[1;32m     38\u001b[0m \u001b[0;34m\u001b[0m\u001b[0m\n\u001b[1;32m     39\u001b[0m \u001b[0;32mif\u001b[0m \u001b[0m__name__\u001b[0m \u001b[0;34m==\u001b[0m \u001b[0;34m'__main__'\u001b[0m\u001b[0;34m:\u001b[0m\u001b[0;34m\u001b[0m\u001b[0;34m\u001b[0m\u001b[0m\n\u001b[0;32m---> 40\u001b[0;31m     \u001b[0mmain\u001b[0m\u001b[0;34m(\u001b[0m\u001b[0;34m)\u001b[0m\u001b[0;34m\u001b[0m\u001b[0;34m\u001b[0m\u001b[0m\n\u001b[0m\u001b[1;32m     41\u001b[0m \u001b[0;34m\u001b[0m\u001b[0m\n\u001b[1;32m     42\u001b[0m \u001b[0;34m\u001b[0m\u001b[0m\n",
      "\u001b[0;32m<ipython-input-11-d8812faaf115>\u001b[0m in \u001b[0;36mmain\u001b[0;34m()\u001b[0m\n\u001b[1;32m      8\u001b[0m     \u001b[0mtimestamp\u001b[0m \u001b[0;34m=\u001b[0m \u001b[0mtime\u001b[0m\u001b[0;34m(\u001b[0m\u001b[0;34m)\u001b[0m\u001b[0;34m\u001b[0m\u001b[0;34m\u001b[0m\u001b[0m\n\u001b[1;32m      9\u001b[0m     \u001b[0mtransactions\u001b[0m \u001b[0;34m=\u001b[0m \u001b[0;34m[\u001b[0m\u001b[0;34m'{\"name\": \"Transaction 1\"}'\u001b[0m\u001b[0;34m]\u001b[0m\u001b[0;34m\u001b[0m\u001b[0;34m\u001b[0m\u001b[0m\n\u001b[0;32m---> 10\u001b[0;31m     \u001b[0mprevious_hash\u001b[0m \u001b[0;34m=\u001b[0m \u001b[0mblockchain\u001b[0m\u001b[0;34m.\u001b[0m\u001b[0mlast_block\u001b[0m\u001b[0;34m(\u001b[0m\u001b[0;34m)\u001b[0m\u001b[0;34m.\u001b[0m\u001b[0mcompute_hash\u001b[0m\u001b[0;34m(\u001b[0m\u001b[0;34m)\u001b[0m \u001b[0;31m# hash des letzten blocks wird neu berechnet aber nicht p.o.w\u001b[0m\u001b[0;34m\u001b[0m\u001b[0;34m\u001b[0m\u001b[0m\n\u001b[0m\u001b[1;32m     11\u001b[0m     \u001b[0mblock\u001b[0m \u001b[0;34m=\u001b[0m \u001b[0mBlock\u001b[0m\u001b[0;34m(\u001b[0m\u001b[0muid\u001b[0m\u001b[0;34m,\u001b[0m \u001b[0mtimestamp\u001b[0m\u001b[0;34m,\u001b[0m \u001b[0mtransactions\u001b[0m\u001b[0;34m,\u001b[0m \u001b[0mprevious_hash\u001b[0m\u001b[0;34m)\u001b[0m\u001b[0;34m\u001b[0m\u001b[0;34m\u001b[0m\u001b[0m\n\u001b[1;32m     12\u001b[0m     \u001b[0mprint\u001b[0m\u001b[0;34m(\u001b[0m\u001b[0;34mf'block = {block.__dict__}'\u001b[0m\u001b[0;34m)\u001b[0m\u001b[0;34m\u001b[0m\u001b[0;34m\u001b[0m\u001b[0m\n",
      "\u001b[0;31mTypeError\u001b[0m: 'Block' object is not callable"
     ]
    }
   ],
   "source": [
    "def main():\n",
    "#create chain\n",
    "    blockchain = BlockChain()\n",
    "    print(f'blockchain = {blockchain.__dict__}') \n",
    "    \n",
    "#create block\n",
    "    uid = 1 \n",
    "    timestamp = time()\n",
    "    transactions = ['{\"name\": \"Transaction 1\"}']\n",
    "    previous_hash = blockchain.last_block().compute_hash() # hash des letzten blocks wird neu berechnet aber nicht p.o.w\n",
    "    block = Block(uid, timestamp, transactions, previous_hash)\n",
    "    print(f'block = {block.__dict__}')\n",
    "    \n",
    "#create proof of work\n",
    "    computed_hash = blockchain.proof_of_work(block) \n",
    "    print('computed_hash = ' + computed_hash) \n",
    "    \n",
    "#append Block\n",
    "    blockchain.chain.append(block)\n",
    "    print(f'blockchain = {blockchain.__dict__}')\n",
    "    \n",
    "# verify blockchain\n",
    "    last_hash = None\n",
    "    for b in blockchain.chain:\n",
    "        block_hash = b.compute_hash()\n",
    "        if b.uid > 0:\n",
    "            if not BlockChain.is_valid_hash(block_hash):\n",
    "                raise Exception('Invalid hash')\n",
    "            if last_hash !=b.previous_hash:\n",
    "                raise Exception('invalid chain')\n",
    "        elif b.uid == 0:\n",
    "            pass # genesis block, no need to do smthg.\n",
    "        else:\n",
    "            raise Exception('Invalid uid')\n",
    "        last_hash = block_hash\n",
    "    \n",
    "    print('blockchain is valid')\n",
    "    \n",
    "if __name__ == '__main__':\n",
    "    main()\n",
    "\n",
    "\n",
    "    "
   ]
  },
  {
   "cell_type": "code",
   "execution_count": null,
   "metadata": {},
   "outputs": [],
   "source": []
  },
  {
   "cell_type": "code",
   "execution_count": null,
   "metadata": {},
   "outputs": [],
   "source": []
  },
  {
   "cell_type": "code",
   "execution_count": null,
   "metadata": {},
   "outputs": [],
   "source": []
  },
  {
   "cell_type": "code",
   "execution_count": null,
   "metadata": {},
   "outputs": [],
   "source": []
  }
 ],
 "metadata": {
  "kernelspec": {
   "display_name": "Python 3",
   "language": "python",
   "name": "python3"
  },
  "language_info": {
   "codemirror_mode": {
    "name": "ipython",
    "version": 3
   },
   "file_extension": ".py",
   "mimetype": "text/x-python",
   "name": "python",
   "nbconvert_exporter": "python",
   "pygments_lexer": "ipython3",
   "version": "3.6.9"
  }
 },
 "nbformat": 4,
 "nbformat_minor": 2
}
